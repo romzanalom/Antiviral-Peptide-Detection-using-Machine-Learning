{
 "cells": [
  {
   "cell_type": "code",
   "execution_count": 1,
   "id": "97e47ddd",
   "metadata": {
    "execution": {
     "iopub.execute_input": "2025-07-25T08:02:59.220089Z",
     "iopub.status.busy": "2025-07-25T08:02:59.219885Z",
     "iopub.status.idle": "2025-07-25T08:02:59.226090Z",
     "shell.execute_reply": "2025-07-25T08:02:59.225537Z"
    },
    "papermill": {
     "duration": 0.009888,
     "end_time": "2025-07-25T08:02:59.227169",
     "exception": false,
     "start_time": "2025-07-25T08:02:59.217281",
     "status": "completed"
    },
    "tags": []
   },
   "outputs": [
    {
     "name": "stdout",
     "output_type": "stream",
     "text": [
      "Hello World\n"
     ]
    }
   ],
   "source": [
    "print(\"Hello World\")"
   ]
  },
  {
   "cell_type": "markdown",
   "id": "904dda8b",
   "metadata": {
    "papermill": {
     "duration": 0.001263,
     "end_time": "2025-07-25T08:02:59.230001",
     "exception": false,
     "start_time": "2025-07-25T08:02:59.228738",
     "status": "completed"
    },
    "tags": []
   },
   "source": [
    "# Dataset 2"
   ]
  },
  {
   "cell_type": "code",
   "execution_count": 2,
   "id": "cad85e27",
   "metadata": {
    "execution": {
     "iopub.execute_input": "2025-07-25T08:02:59.233433Z",
     "iopub.status.busy": "2025-07-25T08:02:59.233217Z",
     "iopub.status.idle": "2025-07-25T09:58:41.603341Z",
     "shell.execute_reply": "2025-07-25T09:58:41.602412Z"
    },
    "papermill": {
     "duration": 6942.373525,
     "end_time": "2025-07-25T09:58:41.604792",
     "exception": false,
     "start_time": "2025-07-25T08:02:59.231267",
     "status": "completed"
    },
    "tags": []
   },
   "outputs": [
    {
     "name": "stderr",
     "output_type": "stream",
     "text": [
      "2025-07-25 08:03:02.766867: E external/local_xla/xla/stream_executor/cuda/cuda_fft.cc:477] Unable to register cuFFT factory: Attempting to register factory for plugin cuFFT when one has already been registered\n",
      "WARNING: All log messages before absl::InitializeLog() is called are written to STDERR\n",
      "E0000 00:00:1753430582.993888      19 cuda_dnn.cc:8310] Unable to register cuDNN factory: Attempting to register factory for plugin cuDNN when one has already been registered\n",
      "E0000 00:00:1753430583.060013      19 cuda_blas.cc:1418] Unable to register cuBLAS factory: Attempting to register factory for plugin cuBLAS when one has already been registered\n"
     ]
    },
    {
     "name": "stdout",
     "output_type": "stream",
     "text": [
      "Found 1843 images belonging to 2 classes.\n",
      "Found 235 images belonging to 2 classes.\n",
      "Found 437 images belonging to 2 classes.\n",
      "\n",
      "--- Run 1/10 ---\n"
     ]
    },
    {
     "name": "stderr",
     "output_type": "stream",
     "text": [
      "/usr/local/lib/python3.11/dist-packages/keras/src/layers/convolutional/base_conv.py:107: UserWarning: Do not pass an `input_shape`/`input_dim` argument to a layer. When using Sequential models, prefer using an `Input(shape)` object as the first layer in the model instead.\n",
      "  super().__init__(activity_regularizer=activity_regularizer, **kwargs)\n",
      "I0000 00:00:1753430601.218144      19 gpu_device.cc:2022] Created device /job:localhost/replica:0/task:0/device:GPU:0 with 13942 MB memory:  -> device: 0, name: Tesla T4, pci bus id: 0000:00:04.0, compute capability: 7.5\n",
      "I0000 00:00:1753430601.218909      19 gpu_device.cc:2022] Created device /job:localhost/replica:0/task:0/device:GPU:1 with 13942 MB memory:  -> device: 1, name: Tesla T4, pci bus id: 0000:00:05.0, compute capability: 7.5\n",
      "/usr/local/lib/python3.11/dist-packages/keras/src/trainers/data_adapters/py_dataset_adapter.py:121: UserWarning: Your `PyDataset` class should call `super().__init__(**kwargs)` in its constructor. `**kwargs` can include `workers`, `use_multiprocessing`, `max_queue_size`. Do not pass these arguments to `fit()`, as they will be ignored.\n",
      "  self._warn_if_super_not_called()\n",
      "WARNING: All log messages before absl::InitializeLog() is called are written to STDERR\n",
      "I0000 00:00:1753430607.170681      84 service.cc:148] XLA service 0x7f1988002090 initialized for platform CUDA (this does not guarantee that XLA will be used). Devices:\n",
      "I0000 00:00:1753430607.171820      84 service.cc:156]   StreamExecutor device (0): Tesla T4, Compute Capability 7.5\n",
      "I0000 00:00:1753430607.171840      84 service.cc:156]   StreamExecutor device (1): Tesla T4, Compute Capability 7.5\n",
      "I0000 00:00:1753430607.702862      84 cuda_dnn.cc:529] Loaded cuDNN version 90300\n",
      "I0000 00:00:1753430611.988169      84 device_compiler.h:188] Compiled cluster using XLA!  This line is logged at most once for the lifetime of the process.\n"
     ]
    },
    {
     "name": "stdout",
     "output_type": "stream",
     "text": [
      "\u001b[1m14/14\u001b[0m \u001b[32m━━━━━━━━━━━━━━━━━━━━\u001b[0m\u001b[37m\u001b[0m \u001b[1m5s\u001b[0m 344ms/step\n",
      "Accuracy:      97.94\n",
      "Precision:     94.81\n",
      "Recall:        98.46\n",
      "Specificity:   97.72\n",
      "F1 Score:      96.60\n",
      "MAE:           0.0206\n",
      "RMSE:          0.1435\n",
      "MCC:           0.9516\n",
      "ROC AUC:       0.9975\n",
      "\n",
      "--- Run 2/10 ---\n"
     ]
    },
    {
     "name": "stderr",
     "output_type": "stream",
     "text": [
      "/usr/local/lib/python3.11/dist-packages/keras/src/layers/convolutional/base_conv.py:107: UserWarning: Do not pass an `input_shape`/`input_dim` argument to a layer. When using Sequential models, prefer using an `Input(shape)` object as the first layer in the model instead.\n",
      "  super().__init__(activity_regularizer=activity_regularizer, **kwargs)\n"
     ]
    },
    {
     "name": "stdout",
     "output_type": "stream",
     "text": [
      "\u001b[1m14/14\u001b[0m \u001b[32m━━━━━━━━━━━━━━━━━━━━\u001b[0m\u001b[37m\u001b[0m \u001b[1m3s\u001b[0m 158ms/step\n",
      "Accuracy:      97.25\n",
      "Precision:     92.75\n",
      "Recall:        98.46\n",
      "Specificity:   96.74\n",
      "F1 Score:      95.52\n",
      "MAE:           0.0275\n",
      "RMSE:          0.1657\n",
      "MCC:           0.9363\n",
      "ROC AUC:       0.9970\n",
      "\n",
      "--- Run 3/10 ---\n"
     ]
    },
    {
     "name": "stderr",
     "output_type": "stream",
     "text": [
      "/usr/local/lib/python3.11/dist-packages/keras/src/layers/convolutional/base_conv.py:107: UserWarning: Do not pass an `input_shape`/`input_dim` argument to a layer. When using Sequential models, prefer using an `Input(shape)` object as the first layer in the model instead.\n",
      "  super().__init__(activity_regularizer=activity_regularizer, **kwargs)\n"
     ]
    },
    {
     "name": "stdout",
     "output_type": "stream",
     "text": [
      "\u001b[1m14/14\u001b[0m \u001b[32m━━━━━━━━━━━━━━━━━━━━\u001b[0m\u001b[37m\u001b[0m \u001b[1m3s\u001b[0m 146ms/step\n",
      "Accuracy:      99.08\n",
      "Precision:     97.01\n",
      "Recall:        100.00\n",
      "Specificity:   98.70\n",
      "F1 Score:      98.48\n",
      "MAE:           0.0092\n",
      "RMSE:          0.0957\n",
      "MCC:           0.9785\n",
      "ROC AUC:       0.9991\n",
      "\n",
      "--- Run 4/10 ---\n"
     ]
    },
    {
     "name": "stderr",
     "output_type": "stream",
     "text": [
      "/usr/local/lib/python3.11/dist-packages/keras/src/layers/convolutional/base_conv.py:107: UserWarning: Do not pass an `input_shape`/`input_dim` argument to a layer. When using Sequential models, prefer using an `Input(shape)` object as the first layer in the model instead.\n",
      "  super().__init__(activity_regularizer=activity_regularizer, **kwargs)\n"
     ]
    },
    {
     "name": "stdout",
     "output_type": "stream",
     "text": [
      "\u001b[1m14/14\u001b[0m \u001b[32m━━━━━━━━━━━━━━━━━━━━\u001b[0m\u001b[37m\u001b[0m \u001b[1m3s\u001b[0m 149ms/step\n",
      "Accuracy:      99.31\n",
      "Precision:     97.74\n",
      "Recall:        100.00\n",
      "Specificity:   99.02\n",
      "F1 Score:      98.86\n",
      "MAE:           0.0069\n",
      "RMSE:          0.0829\n",
      "MCC:           0.9838\n",
      "ROC AUC:       0.9999\n",
      "\n",
      "--- Run 5/10 ---\n"
     ]
    },
    {
     "name": "stderr",
     "output_type": "stream",
     "text": [
      "/usr/local/lib/python3.11/dist-packages/keras/src/layers/convolutional/base_conv.py:107: UserWarning: Do not pass an `input_shape`/`input_dim` argument to a layer. When using Sequential models, prefer using an `Input(shape)` object as the first layer in the model instead.\n",
      "  super().__init__(activity_regularizer=activity_regularizer, **kwargs)\n"
     ]
    },
    {
     "name": "stdout",
     "output_type": "stream",
     "text": [
      "\u001b[1m14/14\u001b[0m \u001b[32m━━━━━━━━━━━━━━━━━━━━\u001b[0m\u001b[37m\u001b[0m \u001b[1m3s\u001b[0m 148ms/step\n",
      "Accuracy:      98.17\n",
      "Precision:     94.85\n",
      "Recall:        99.23\n",
      "Specificity:   97.72\n",
      "F1 Score:      96.99\n",
      "MAE:           0.0183\n",
      "RMSE:          0.1353\n",
      "MCC:           0.9573\n",
      "ROC AUC:       0.9972\n",
      "\n",
      "--- Run 6/10 ---\n"
     ]
    },
    {
     "name": "stderr",
     "output_type": "stream",
     "text": [
      "/usr/local/lib/python3.11/dist-packages/keras/src/layers/convolutional/base_conv.py:107: UserWarning: Do not pass an `input_shape`/`input_dim` argument to a layer. When using Sequential models, prefer using an `Input(shape)` object as the first layer in the model instead.\n",
      "  super().__init__(activity_regularizer=activity_regularizer, **kwargs)\n"
     ]
    },
    {
     "name": "stdout",
     "output_type": "stream",
     "text": [
      "\u001b[1m14/14\u001b[0m \u001b[32m━━━━━━━━━━━━━━━━━━━━\u001b[0m\u001b[37m\u001b[0m \u001b[1m3s\u001b[0m 152ms/step\n",
      "Accuracy:      97.94\n",
      "Precision:     94.16\n",
      "Recall:        99.23\n",
      "Specificity:   97.39\n",
      "F1 Score:      96.63\n",
      "MAE:           0.0206\n",
      "RMSE:          0.1435\n",
      "MCC:           0.9522\n",
      "ROC AUC:       0.9992\n",
      "\n",
      "--- Run 7/10 ---\n"
     ]
    },
    {
     "name": "stderr",
     "output_type": "stream",
     "text": [
      "/usr/local/lib/python3.11/dist-packages/keras/src/layers/convolutional/base_conv.py:107: UserWarning: Do not pass an `input_shape`/`input_dim` argument to a layer. When using Sequential models, prefer using an `Input(shape)` object as the first layer in the model instead.\n",
      "  super().__init__(activity_regularizer=activity_regularizer, **kwargs)\n"
     ]
    },
    {
     "name": "stdout",
     "output_type": "stream",
     "text": [
      "\u001b[1m14/14\u001b[0m \u001b[32m━━━━━━━━━━━━━━━━━━━━\u001b[0m\u001b[37m\u001b[0m \u001b[1m2s\u001b[0m 144ms/step\n",
      "Accuracy:      98.63\n",
      "Precision:     95.59\n",
      "Recall:        100.00\n",
      "Specificity:   98.05\n",
      "F1 Score:      97.74\n",
      "MAE:           0.0137\n",
      "RMSE:          0.1172\n",
      "MCC:           0.9681\n",
      "ROC AUC:       0.9991\n",
      "\n",
      "--- Run 8/10 ---\n"
     ]
    },
    {
     "name": "stderr",
     "output_type": "stream",
     "text": [
      "/usr/local/lib/python3.11/dist-packages/keras/src/layers/convolutional/base_conv.py:107: UserWarning: Do not pass an `input_shape`/`input_dim` argument to a layer. When using Sequential models, prefer using an `Input(shape)` object as the first layer in the model instead.\n",
      "  super().__init__(activity_regularizer=activity_regularizer, **kwargs)\n"
     ]
    },
    {
     "name": "stdout",
     "output_type": "stream",
     "text": [
      "\u001b[1m14/14\u001b[0m \u001b[32m━━━━━━━━━━━━━━━━━━━━\u001b[0m\u001b[37m\u001b[0m \u001b[1m3s\u001b[0m 147ms/step\n",
      "Accuracy:      99.08\n",
      "Precision:     97.01\n",
      "Recall:        100.00\n",
      "Specificity:   98.70\n",
      "F1 Score:      98.48\n",
      "MAE:           0.0092\n",
      "RMSE:          0.0957\n",
      "MCC:           0.9785\n",
      "ROC AUC:       0.9997\n",
      "\n",
      "--- Run 9/10 ---\n"
     ]
    },
    {
     "name": "stderr",
     "output_type": "stream",
     "text": [
      "/usr/local/lib/python3.11/dist-packages/keras/src/layers/convolutional/base_conv.py:107: UserWarning: Do not pass an `input_shape`/`input_dim` argument to a layer. When using Sequential models, prefer using an `Input(shape)` object as the first layer in the model instead.\n",
      "  super().__init__(activity_regularizer=activity_regularizer, **kwargs)\n"
     ]
    },
    {
     "name": "stdout",
     "output_type": "stream",
     "text": [
      "\u001b[1m14/14\u001b[0m \u001b[32m━━━━━━━━━━━━━━━━━━━━\u001b[0m\u001b[37m\u001b[0m \u001b[1m2s\u001b[0m 141ms/step\n",
      "Accuracy:      98.40\n",
      "Precision:     94.89\n",
      "Recall:        100.00\n",
      "Specificity:   97.72\n",
      "F1 Score:      97.38\n",
      "MAE:           0.0160\n",
      "RMSE:          0.1266\n",
      "MCC:           0.9629\n",
      "ROC AUC:       0.9993\n",
      "\n",
      "--- Run 10/10 ---\n"
     ]
    },
    {
     "name": "stderr",
     "output_type": "stream",
     "text": [
      "/usr/local/lib/python3.11/dist-packages/keras/src/layers/convolutional/base_conv.py:107: UserWarning: Do not pass an `input_shape`/`input_dim` argument to a layer. When using Sequential models, prefer using an `Input(shape)` object as the first layer in the model instead.\n",
      "  super().__init__(activity_regularizer=activity_regularizer, **kwargs)\n"
     ]
    },
    {
     "name": "stdout",
     "output_type": "stream",
     "text": [
      "\u001b[1m14/14\u001b[0m \u001b[32m━━━━━━━━━━━━━━━━━━━━\u001b[0m\u001b[37m\u001b[0m \u001b[1m3s\u001b[0m 192ms/step\n",
      "Accuracy:      98.40\n",
      "Precision:     94.89\n",
      "Recall:        100.00\n",
      "Specificity:   97.72\n",
      "F1 Score:      97.38\n",
      "MAE:           0.0160\n",
      "RMSE:          0.1266\n",
      "MCC:           0.9629\n",
      "ROC AUC:       0.9990\n",
      "\n",
      "Final Results after 10 runs — Model: DNBSD\n",
      "Accuracy:      98.42 ± 0.60\n",
      "Precision:     95.37 ± 1.43\n",
      "Recall:        99.54 ± 0.62\n",
      "Specificity:   97.95 ± 0.65\n",
      "F1 Score:      97.41 ± 0.98\n",
      "MAE:           0.0158 ± 0.0060\n",
      "RMSE:          0.1233 ± 0.0245\n",
      "MCC:           0.9632 ± 0.0139\n",
      "ROC AUC:       0.9987 ± 0.0010\n"
     ]
    }
   ],
   "source": [
    "import os\n",
    "import numpy as np\n",
    "import cv2\n",
    "import time\n",
    "from sklearn.metrics import (\n",
    "    accuracy_score, f1_score, confusion_matrix,\n",
    "    precision_score, recall_score, mean_absolute_error,\n",
    "    matthews_corrcoef, roc_auc_score, mean_squared_error\n",
    ")\n",
    "from tensorflow.keras.models import Sequential\n",
    "from tensorflow.keras.layers import Flatten, Dense, Dropout, Conv2D, MaxPooling2D, BatchNormalization\n",
    "from tensorflow.keras.preprocessing.image import ImageDataGenerator\n",
    "import tensorflow as tf\n",
    "\n",
    "data_dir = '/kaggle/input/brain-stroke-prediction-ct-scan-image-dataset/Brain_Stroke_CT-SCAN_image'\n",
    "train_dir = os.path.join(data_dir, 'Train')\n",
    "test_dir = os.path.join(data_dir, 'Test')\n",
    "validation_dir = os.path.join(data_dir, 'Validation')\n",
    "\n",
    "# Image dimensions\n",
    "img_width, img_height = 256, 256\n",
    "\n",
    "# Data augmentation and preprocessing\n",
    "train_datagen = ImageDataGenerator(rescale=1.0/255.0)\n",
    "test_datagen = ImageDataGenerator(rescale=1.0/255.0)\n",
    "\n",
    "train_generator = train_datagen.flow_from_directory(\n",
    "    train_dir,\n",
    "    target_size=(img_width, img_height),\n",
    "    batch_size=32,\n",
    "    class_mode='binary'\n",
    ")\n",
    "\n",
    "validation_generator = test_datagen.flow_from_directory(\n",
    "    validation_dir,\n",
    "    target_size=(img_width, img_height),\n",
    "    batch_size=32,\n",
    "    class_mode='binary'\n",
    ")\n",
    "\n",
    "test_generator = test_datagen.flow_from_directory(\n",
    "    test_dir,\n",
    "    target_size=(img_width, img_height),\n",
    "    batch_size=32,\n",
    "    class_mode='binary',\n",
    "    shuffle=False\n",
    ")\n",
    "\n",
    "# Define metric lists\n",
    "accuracies = []\n",
    "precisions = []\n",
    "recalls = []\n",
    "specificities = []\n",
    "f1_scores = []\n",
    "maes = []\n",
    "rmses = []\n",
    "mccs = []\n",
    "roc_aucs = []\n",
    "\n",
    "# Step 2: Run Training and Evaluation 10 Times\n",
    "for run in range(10):\n",
    "    print(f\"\\n--- Run {run+1}/10 ---\")\n",
    "    \n",
    "    # Reinitialize model for each run\n",
    "    model = Sequential([\n",
    "        Conv2D(8, (3, 3), activation='relu', input_shape=(img_width, img_height, 3)),\n",
    "        MaxPooling2D((2, 2)),\n",
    "        Conv2D(32, (3, 3), activation='relu'),\n",
    "        BatchNormalization(),\n",
    "        MaxPooling2D((2, 2)),\n",
    "        Conv2D(64, (3, 3), activation='relu'),\n",
    "        MaxPooling2D((2, 2)),\n",
    "        Conv2D(64, (3, 3), activation='relu'),\n",
    "        BatchNormalization(),\n",
    "        MaxPooling2D((2, 2)),\n",
    "        Flatten(),\n",
    "        Dense(128, activation='relu'),\n",
    "        Dense(64, activation='relu'),\n",
    "        Dense(1, activation='sigmoid')\n",
    "    ])\n",
    "    model.compile(optimizer='adam', loss='binary_crossentropy', metrics=['accuracy'])\n",
    "\n",
    "    # Train\n",
    "    model.fit(train_generator, epochs=100, validation_data=validation_generator, verbose=0)\n",
    "\n",
    "    # Predict\n",
    "    y_pred_prob = model.predict(test_generator)\n",
    "    y_pred = (y_pred_prob > 0.5).astype(int).flatten()\n",
    "    y_true = test_generator.classes\n",
    "\n",
    "    # Metrics\n",
    "    acc = accuracy_score(y_true, y_pred)\n",
    "    prec = precision_score(y_true, y_pred)\n",
    "    rec = recall_score(y_true, y_pred)\n",
    "    f1 = f1_score(y_true, y_pred)\n",
    "    mae = mean_absolute_error(y_true, y_pred)\n",
    "    rmse = mean_squared_error(y_true, y_pred, squared=False)\n",
    "    mcc = matthews_corrcoef(y_true, y_pred)\n",
    "    roc_auc = roc_auc_score(y_true, y_pred_prob)\n",
    "\n",
    "    tn, fp, fn, tp = confusion_matrix(y_true, y_pred).ravel()\n",
    "    spec = tn / (tn + fp)\n",
    "\n",
    "    # Append to lists\n",
    "    accuracies.append(acc)\n",
    "    precisions.append(prec)\n",
    "    recalls.append(rec)\n",
    "    specificities.append(spec)\n",
    "    f1_scores.append(f1)\n",
    "    maes.append(mae)\n",
    "    rmses.append(rmse)\n",
    "    mccs.append(mcc)\n",
    "    roc_aucs.append(roc_auc)\n",
    "\n",
    "      # Print metrics for current run\n",
    "    print(f\"Accuracy:      {acc*100:.2f}\")\n",
    "    print(f\"Precision:     {prec*100:.2f}\")\n",
    "    print(f\"Recall:        {rec*100:.2f}\")\n",
    "    print(f\"Specificity:   {spec*100:.2f}\")\n",
    "    print(f\"F1 Score:      {f1*100:.2f}\")\n",
    "    print(f\"MAE:           {mae:.4f}\")\n",
    "    print(f\"RMSE:          {rmse:.4f}\")\n",
    "    print(f\"MCC:           {mcc:.4f}\")\n",
    "    print(f\"ROC AUC:       {roc_auc:.4f}\")\n",
    "\n",
    "# Final results\n",
    "def mean_std(values):\n",
    "    return np.mean(values), np.std(values)\n",
    "\n",
    "model_name = \"DNBSD\"\n",
    "\n",
    "# Compute mean ± std for each metric\n",
    "acc_mean, acc_std = mean_std(accuracies)\n",
    "prec_mean, prec_std = mean_std(precisions)\n",
    "rec_mean, rec_std = mean_std(recalls)\n",
    "spec_mean, spec_std = mean_std(specificities)\n",
    "f1_mean, f1_std = mean_std(f1_scores)\n",
    "mae_mean, mae_std = mean_std(maes)\n",
    "rmse_mean, rmse_std = mean_std(rmses)\n",
    "mcc_mean, mcc_std = mean_std(mccs)\n",
    "roc_auc_mean, roc_auc_std = mean_std(roc_aucs)\n",
    "\n",
    "# Final print\n",
    "print(f\"\\nFinal Results after 10 runs — Model: {model_name}\")\n",
    "print(f\"Accuracy:      {acc_mean*100:.2f} ± {acc_std*100:.2f}\")\n",
    "print(f\"Precision:     {prec_mean*100:.2f} ± {prec_std*100:.2f}\")\n",
    "print(f\"Recall:        {rec_mean*100:.2f} ± {rec_std*100:.2f}\")\n",
    "print(f\"Specificity:   {spec_mean*100:.2f} ± {spec_std*100:.2f}\")\n",
    "print(f\"F1 Score:      {f1_mean*100:.2f} ± {f1_std*100:.2f}\")\n",
    "print(f\"MAE:           {mae_mean:.4f} ± {mae_std:.4f}\")\n",
    "print(f\"RMSE:          {rmse_mean:.4f} ± {rmse_std:.4f}\")\n",
    "print(f\"MCC:           {mcc_mean:.4f} ± {mcc_std:.4f}\")\n",
    "print(f\"ROC AUC:       {roc_auc_mean:.4f} ± {roc_auc_std:.4f}\")\n"
   ]
  }
 ],
 "metadata": {
  "kaggle": {
   "accelerator": "nvidiaTeslaT4",
   "dataSources": [
    {
     "datasetId": 1417010,
     "sourceId": 2347225,
     "sourceType": "datasetVersion"
    },
    {
     "datasetId": 2463204,
     "sourceId": 4174145,
     "sourceType": "datasetVersion"
    }
   ],
   "dockerImageVersionId": 31090,
   "isGpuEnabled": true,
   "isInternetEnabled": true,
   "language": "python",
   "sourceType": "notebook"
  },
  "kernelspec": {
   "display_name": "Python 3",
   "language": "python",
   "name": "python3"
  },
  "language_info": {
   "codemirror_mode": {
    "name": "ipython",
    "version": 3
   },
   "file_extension": ".py",
   "mimetype": "text/x-python",
   "name": "python",
   "nbconvert_exporter": "python",
   "pygments_lexer": "ipython3",
   "version": "3.11.13"
  },
  "papermill": {
   "default_parameters": {},
   "duration": 6950.039581,
   "end_time": "2025-07-25T09:58:44.757589",
   "environment_variables": {},
   "exception": null,
   "input_path": "__notebook__.ipynb",
   "output_path": "__notebook__.ipynb",
   "parameters": {},
   "start_time": "2025-07-25T08:02:54.718008",
   "version": "2.6.0"
  }
 },
 "nbformat": 4,
 "nbformat_minor": 5
}
